{
  "nbformat": 4,
  "nbformat_minor": 0,
  "metadata": {
    "colab": {
      "provenance": []
    },
    "kernelspec": {
      "name": "python3",
      "display_name": "Python 3"
    },
    "language_info": {
      "name": "python"
    }
  },
  "cells": [
    {
      "cell_type": "code",
      "execution_count": 4,
      "metadata": {
        "colab": {
          "base_uri": "https://localhost:8080/"
        },
        "id": "eMXUQSlIr5tP",
        "outputId": "77028b02-afd4-40c6-9813-fc57ffee0b8f"
      },
      "outputs": [
        {
          "output_type": "stream",
          "name": "stdout",
          "text": [
            "enter the first number 76\n",
            "enter the second number 98\n",
            "sum= 174 substractioin= -22 mutiplication= 7448 division= 0.7755102040816326\n"
          ]
        }
      ],
      "source": [
        "#Arithmetic operation\n",
        "a=int(input('enter the first number '))\n",
        "b=int(input('enter the second number '))\n",
        "sum=a+b\n",
        "substraction=a-b\n",
        "multiplication=a*b\n",
        "division=a/b\n",
        "print('sum=',sum,'substractioin=',substraction,'mutiplication=',multiplication,'division=',division)"
      ]
    },
    {
      "cell_type": "code",
      "source": [],
      "metadata": {
        "id": "m7V8X2-u1ZPX"
      },
      "execution_count": null,
      "outputs": []
    },
    {
      "cell_type": "code",
      "source": [
        "#program to find simple interest\n",
        "P=int(input('enter principal:' ))\n",
        "N=int(input('enter no of years:'))\n",
        "R=int(input('enter interest rate'))\n",
        "Interest =(P*N*R)/100\n",
        "print('simple interest :',Interest)"
      ],
      "metadata": {
        "colab": {
          "base_uri": "https://localhost:8080/"
        },
        "id": "lOSBJ5quuPl8",
        "outputId": "d888a0dc-554a-4ba9-a04f-b79c2eb27649"
      },
      "execution_count": 1,
      "outputs": [
        {
          "output_type": "stream",
          "name": "stdout",
          "text": [
            "enter principal:56000\n",
            "enter no of years:5\n",
            "enter interest rate13\n",
            "simple interest : 36400.0\n"
          ]
        }
      ]
    },
    {
      "cell_type": "code",
      "source": [],
      "metadata": {
        "id": "l-YvnNcW_wtw"
      },
      "execution_count": null,
      "outputs": []
    },
    {
      "cell_type": "code",
      "source": [
        "#Program to find circumference of circle\n",
        "r=float(input('enter the radius'))\n",
        "pi=3.141\n",
        "circumference=2*pi*r\n",
        "area=pi*(r**2)\n",
        "print('circumference=',circumference,'area',area)"
      ],
      "metadata": {
        "colab": {
          "base_uri": "https://localhost:8080/"
        },
        "id": "Xpl5WE0z53Qe",
        "outputId": "c8696218-6016-48fc-84cf-ae3370cc05bd"
      },
      "execution_count": 2,
      "outputs": [
        {
          "output_type": "stream",
          "name": "stdout",
          "text": [
            "enter the radius7\n",
            "circumference= 43.974000000000004 area 153.909\n"
          ]
        }
      ]
    },
    {
      "cell_type": "code",
      "source": [
        "# Python Program to convert temperature in celsius to fahrenheit\n",
        "c=int(input('Enter temperature in Celsius:'))\n",
        "# calculate fahrenheit\n",
        "f=(c*1.8)+32\n",
        "print(\"fahreinheit\",f)"
      ],
      "metadata": {
        "colab": {
          "base_uri": "https://localhost:8080/"
        },
        "id": "AQSM4z3H_yse",
        "outputId": "9cae39bb-5bb3-4c35-ed0a-01ccafe7ce05"
      },
      "execution_count": 7,
      "outputs": [
        {
          "output_type": "stream",
          "name": "stdout",
          "text": [
            "Enter temperature in Celsius:76\n",
            "fahreinheit 168.8\n"
          ]
        }
      ]
    },
    {
      "cell_type": "code",
      "source": [
        "#python program to randomly create a sentence\n",
        "import random as ran\n",
        "subject=['shashi','babu','minhaj','bibbi','thankan','muhammad']\n",
        "verb=['jumped','ran away','ate cake','was smiling']\n",
        "print(ran.choice(subject),ran.choice(verb),\"and\",ran.choice(subject),ran.choice(verb))"
      ],
      "metadata": {
        "colab": {
          "base_uri": "https://localhost:8080/"
        },
        "id": "iSvml_v0_2sn",
        "outputId": "fa984cf3-dd9c-4b49-da54-a204bb97ea6b"
      },
      "execution_count": 6,
      "outputs": [
        {
          "output_type": "stream",
          "name": "stdout",
          "text": [
            "babu jumped and muhammad was smiling\n"
          ]
        }
      ]
    }
  ]
}